{
 "cells": [
  {
   "cell_type": "code",
   "execution_count": 40,
   "metadata": {},
   "outputs": [
    {
     "ename": "SyntaxError",
     "evalue": "invalid syntax (4225789227.py, line 12)",
     "output_type": "error",
     "traceback": [
      "\u001b[1;36m  Cell \u001b[1;32mIn [40], line 12\u001b[1;36m\u001b[0m\n\u001b[1;33m    for fname[0]:\u001b[0m\n\u001b[1;37m                ^\u001b[0m\n\u001b[1;31mSyntaxError\u001b[0m\u001b[1;31m:\u001b[0m invalid syntax\n"
     ]
    }
   ],
   "source": [
    "import numpy as np\n",
    "import cv2\n",
    "import glob\n",
    "import argparse\n",
    "\n",
    "dirpath = 'CalibrationImages'\n",
    "prefix = 'IMG_'\n",
    "image_format = 'HEIC'\n",
    "\n",
    "images = glob.glob(dirpath+'/' + prefix + '*.' + image_format)\n",
    "\n",
    "for fname in images[0]:\n",
    "    # print(fname)\n",
    "    img = cv2.imread(fname)\n",
    "    gray = cv2.cvtColor(img, cv2.COLOR_BGR2GRAY)"
   ]
  },
  {
   "cell_type": "code",
   "execution_count": 8,
   "metadata": {},
   "outputs": [
    {
     "name": "stdout",
     "output_type": "stream",
     "text": [
      "None\n"
     ]
    }
   ],
   "source": [
    "img = cv2.imread('CalibrationImages\\IMG_0933.HEIC')\n",
    "print(img)"
   ]
  },
  {
   "cell_type": "code",
   "execution_count": 14,
   "metadata": {},
   "outputs": [
    {
     "name": "stdout",
     "output_type": "stream",
     "text": [
      "None\n"
     ]
    }
   ],
   "source": [
    "img = cv2.imread(r\"C:\\Users\\Darin Tsui\\SurgicalPositioning\\CalibrationImages\\IMG_0933.HEIC\")\n",
    "print(img)\n",
    "# cv2.imshow('image',img)\n",
    "# cv2.waitKey(0)"
   ]
  },
  {
   "cell_type": "code",
   "execution_count": 39,
   "metadata": {},
   "outputs": [],
   "source": [
    "from PIL import Image\n",
    "from pillow_heif import register_heif_opener\n",
    "\n",
    "register_heif_opener()\n",
    "\n",
    "dirpath = 'CalibrationImages'\n",
    "prefix = 'IMG_'\n",
    "image_format = 'HEIC'\n",
    "images = glob.glob(dirpath+'/' + prefix + '*.' + image_format)\n",
    "images2 = glob.glob(dirpath+'/' + prefix + '*.' + 'png')\n",
    "\n",
    "for fname in images:\n",
    "    image = Image.open(fname)\n",
    "\n",
    "    image.save(fname[0:26] + '.png') \n",
    "    # img = cv2.imread(fname)\n",
    "    # gray = cv2.cvtColor(img, cv2.COLOR_BGR2GRAY)"
   ]
  },
  {
   "cell_type": "code",
   "execution_count": 37,
   "metadata": {},
   "outputs": [
    {
     "data": {
      "text/plain": [
       "'CalibrationImages\\\\IMG_0933'"
      ]
     },
     "execution_count": 37,
     "metadata": {},
     "output_type": "execute_result"
    }
   ],
   "source": [
    "fname[0:26]"
   ]
  },
  {
   "cell_type": "code",
   "execution_count": null,
   "metadata": {},
   "outputs": [],
   "source": []
  }
 ],
 "metadata": {
  "kernelspec": {
   "display_name": "Python 3",
   "language": "python",
   "name": "python3"
  },
  "language_info": {
   "codemirror_mode": {
    "name": "ipython",
    "version": 3
   },
   "file_extension": ".py",
   "mimetype": "text/x-python",
   "name": "python",
   "nbconvert_exporter": "python",
   "pygments_lexer": "ipython3",
   "version": "3.9.13"
  },
  "orig_nbformat": 4,
  "vscode": {
   "interpreter": {
    "hash": "98a625e6d7d55545ce81aedecb43d138ab580e94ba5efa0d01dd2fae79ce129d"
   }
  }
 },
 "nbformat": 4,
 "nbformat_minor": 2
}
